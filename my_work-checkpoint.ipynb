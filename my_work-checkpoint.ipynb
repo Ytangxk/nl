{
 "cells": [
  {
   "cell_type": "code",
   "execution_count": 1,
   "id": "dfc50d61",
   "metadata": {
    "scrolled": true
   },
   "outputs": [
    {
     "data": {
      "text/plain": [
       "[<matplotlib.lines.Line2D at 0x274377d82e0>]"
      ]
     },
     "execution_count": 1,
     "metadata": {},
     "output_type": "execute_result"
    },
    {
     "data": {
      "image/png": "[encoded data removed]",
      "text/plain": [
       "<Figure size 432x288 with 1 Axes>"
      ]
     },
     "metadata": {
      "needs_background": "light"
     },
     "output_type": "display_data"
    }
   ],
   "source": [
    "# 设置 inline 方式，直接把图片画在网页上\n",
    "%matplotlib inline\n",
    "# 导入必要的库\n",
    "import numpy as np\n",
    "import matplotlib.pyplot as plt\n",
    "# 在 [0, 2*PI] 之间取 100 个点\n",
    "x = np.linspace(0, 2 * np.pi, num=100)\n",
    "# 计算这 100 个点的正弦值，并保存在变量 y\n",
    "y = np.sin(x)\n",
    "# 画出 x, y 即是我们的正弦曲线\n",
    "plt.plot(x, y)"
   ]
  },
  {
   "cell_type": "code",
   "execution_count": 2,
   "id": "afb54ff9",
   "metadata": {
    "scrolled": true
   },
   "outputs": [
    {
     "data": {
      "text/plain": [
       "<matplotlib.collections.PathCollection at 0x27437f9c3d0>"
      ]
     },
     "execution_count": 2,
     "metadata": {},
     "output_type": "execute_result"
    },
    {
     "data": {
      "image/png": "[encoded data removed]",
      "text/plain": [
       "<Figure size 432x288 with 1 Axes>"
      ]
     },
     "metadata": {
      "needs_background": "light"
     },
     "output_type": "display_data"
    }
   ],
   "source": [
    "import numpy as np\n",
    "import matplotlib.pyplot as plt\n",
    "np.random.seed(1)\n",
    "x=np.random.rand(10)\n",
    "y=np.random.rand(10)\n",
    "colors=np.random.rand(10)\n",
    "area=(40 * np.random.rand(10))**2\n",
    "%matplotlib inline\n",
    "plt.scatter(x,y,s=area,c=colors,alpha=0.4)"
   ]
  },
  {
   "cell_type": "code",
   "execution_count": 3,
   "id": "674b99f0",
   "metadata": {},
   "outputs": [
    {
     "data": {
      "text/plain": [
       "['__add__',\n",
       " '__class__',\n",
       " '__contains__',\n",
       " '__delattr__',\n",
       " '__dir__',\n",
       " '__doc__',\n",
       " '__eq__',\n",
       " '__format__',\n",
       " '__ge__',\n",
       " '__getattribute__',\n",
       " '__getitem__',\n",
       " '__getnewargs__',\n",
       " '__gt__',\n",
       " '__hash__',\n",
       " '__init__',\n",
       " '__init_subclass__',\n",
       " '__iter__',\n",
       " '__le__',\n",
       " '__len__',\n",
       " '__lt__',\n",
       " '__mod__',\n",
       " '__mul__',\n",
       " '__ne__',\n",
       " '__new__',\n",
       " '__reduce__',\n",
       " '__reduce_ex__',\n",
       " '__repr__',\n",
       " '__rmod__',\n",
       " '__rmul__',\n",
       " '__setattr__',\n",
       " '__sizeof__',\n",
       " '__str__',\n",
       " '__subclasshook__',\n",
       " 'capitalize',\n",
       " 'casefold',\n",
       " 'center',\n",
       " 'count',\n",
       " 'encode',\n",
       " 'endswith',\n",
       " 'expandtabs',\n",
       " 'find',\n",
       " 'format',\n",
       " 'format_map',\n",
       " 'index',\n",
       " 'isalnum',\n",
       " 'isalpha',\n",
       " 'isascii',\n",
       " 'isdecimal',\n",
       " 'isdigit',\n",
       " 'isidentifier',\n",
       " 'islower',\n",
       " 'isnumeric',\n",
       " 'isprintable',\n",
       " 'isspace',\n",
       " 'istitle',\n",
       " 'isupper',\n",
       " 'join',\n",
       " 'ljust',\n",
       " 'lower',\n",
       " 'lstrip',\n",
       " 'maketrans',\n",
       " 'partition',\n",
       " 'removeprefix',\n",
       " 'removesuffix',\n",
       " 'replace',\n",
       " 'rfind',\n",
       " 'rindex',\n",
       " 'rjust',\n",
       " 'rpartition',\n",
       " 'rsplit',\n",
       " 'rstrip',\n",
       " 'split',\n",
       " 'splitlines',\n",
       " 'startswith',\n",
       " 'strip',\n",
       " 'swapcase',\n",
       " 'title',\n",
       " 'translate',\n",
       " 'upper',\n",
       " 'zfill']"
      ]
     },
     "execution_count": 3,
     "metadata": {},
     "output_type": "execute_result"
    }
   ],
   "source": [
    "dir(str)"
   ]
  },
  {
   "cell_type": "code",
   "execution_count": 4,
   "id": "e8775a0f",
   "metadata": {},
   "outputs": [
    {
     "name": "stdout",
     "output_type": "stream",
     "text": [
      "[1, 'like', [1, 2, 3]]\n"
     ]
    }
   ],
   "source": [
    "list_1=[1,'like',[1,2,3]]\n",
    "print(list_1)"
   ]
  },
  {
   "cell_type": "code",
   "execution_count": 5,
   "id": "d4d8373c",
   "metadata": {},
   "outputs": [
    {
     "data": {
      "text/plain": [
       "[1, 2, 3]"
      ]
     },
     "execution_count": 5,
     "metadata": {},
     "output_type": "execute_result"
    }
   ],
   "source": [
    "list_1[2]"
   ]
  },
  {
   "cell_type": "code",
   "execution_count": 6,
   "id": "cc5e67b6",
   "metadata": {},
   "outputs": [
    {
     "data": {
      "text/plain": [
       "3"
      ]
     },
     "execution_count": 6,
     "metadata": {},
     "output_type": "execute_result"
    }
   ],
   "source": [
    "list_1[2][2]"
   ]
  },
  {
   "cell_type": "code",
   "execution_count": 7,
   "id": "217490a2",
   "metadata": {},
   "outputs": [
    {
     "data": {
      "text/plain": [
       "3"
      ]
     },
     "execution_count": 7,
     "metadata": {},
     "output_type": "execute_result"
    }
   ],
   "source": [
    "list_1[2][2]"
   ]
  },
  {
   "cell_type": "code",
   "execution_count": 8,
   "id": "74aec217",
   "metadata": {},
   "outputs": [
    {
     "data": {
      "text/plain": [
       "[1, 'like']"
      ]
     },
     "execution_count": 8,
     "metadata": {},
     "output_type": "execute_result"
    }
   ],
   "source": [
    "list_1[0:2]"
   ]
  },
  {
   "cell_type": "code",
   "execution_count": 9,
   "id": "c0575ede",
   "metadata": {},
   "outputs": [
    {
     "data": {
      "text/plain": [
       "['t', 'a', 'n', 'g', 'x', 'i', 'a', 'n', 'g', 'k', 'a', 'i']"
      ]
     },
     "execution_count": 9,
     "metadata": {},
     "output_type": "execute_result"
    }
   ],
   "source": [
    "list_=list(\"tangxiangkai\")\n",
    "list_"
   ]
  },
  {
   "cell_type": "code",
   "execution_count": 10,
   "id": "c545bbd4",
   "metadata": {},
   "outputs": [
    {
     "data": {
      "text/plain": [
       "2698178877184"
      ]
     },
     "execution_count": 10,
     "metadata": {},
     "output_type": "execute_result"
    }
   ],
   "source": [
    "id(list_)"
   ]
  },
  {
   "cell_type": "code",
   "execution_count": 11,
   "id": "026f2077",
   "metadata": {},
   "outputs": [
    {
     "data": {
      "text/plain": [
       "['t', 'a', 'n', 'g']"
      ]
     },
     "execution_count": 11,
     "metadata": {},
     "output_type": "execute_result"
    }
   ],
   "source": [
    "list_[0:4]"
   ]
  },
  {
   "cell_type": "code",
   "execution_count": 12,
   "id": "fb5811e4",
   "metadata": {},
   "outputs": [
    {
     "ename": "NameError",
     "evalue": "name 'pop' is not defined",
     "output_type": "error",
     "traceback": [
      "\u001b[1;31m---------------------------------------------------------------------------\u001b[0m",
      "\u001b[1;31mNameError\u001b[0m                                 Traceback (most recent call last)",
      "\u001b[1;32m~\\AppData\\Local\\Temp/ipykernel_2728/574058739.py\u001b[0m in \u001b[0;36m<module>\u001b[1;34m\u001b[0m\n\u001b[1;32m----> 1\u001b[1;33m \u001b[0mpop\u001b[0m\u001b[1;33m(\u001b[0m\u001b[0mlist_\u001b[0m\u001b[1;33m)\u001b[0m\u001b[1;33m\u001b[0m\u001b[1;33m\u001b[0m\u001b[0m\n\u001b[0m",
      "\u001b[1;31mNameError\u001b[0m: name 'pop' is not defined"
     ]
    }
   ],
   "source": [
    "pop(list_)"
   ]
  },
  {
   "cell_type": "code",
   "execution_count": null,
   "id": "607dcccc",
   "metadata": {},
   "outputs": [],
   "source": [
    "list_.pop()"
   ]
  },
  {
   "cell_type": "code",
   "execution_count": null,
   "id": "dfa55ac3",
   "metadata": {},
   "outputs": [],
   "source": [
    "list_"
   ]
  },
  {
   "cell_type": "code",
   "execution_count": null,
   "id": "7cb4b08e",
   "metadata": {},
   "outputs": [],
   "source": [
    "list_.pop(0)"
   ]
  },
  {
   "cell_type": "code",
   "execution_count": 13,
   "id": "3c5ff767",
   "metadata": {},
   "outputs": [
    {
     "data": {
      "text/plain": [
       "2698178877184"
      ]
     },
     "execution_count": 13,
     "metadata": {},
     "output_type": "execute_result"
    }
   ],
   "source": [
    "id(list_)"
   ]
  },
  {
   "cell_type": "code",
   "execution_count": 14,
   "id": "fdf803fa",
   "metadata": {},
   "outputs": [
    {
     "data": {
      "text/plain": [
       "['t', 'a', 'n', 'g', 'x', 'i', 'a', 'n', 'g', 'k', 'a', 'i']"
      ]
     },
     "execution_count": 14,
     "metadata": {},
     "output_type": "execute_result"
    }
   ],
   "source": [
    "list_"
   ]
  },
  {
   "cell_type": "code",
   "execution_count": 15,
   "id": "0c261761",
   "metadata": {},
   "outputs": [
    {
     "data": {
      "text/plain": [
       "['a', 'n', 'g', 'x', 'i', 'a', 'n', 'g', 'k', 'a', 'i']"
      ]
     },
     "execution_count": 15,
     "metadata": {},
     "output_type": "execute_result"
    }
   ],
   "source": [
    "del(list_[0])\n",
    "list_"
   ]
  },
  {
   "cell_type": "code",
   "execution_count": 16,
   "id": "6e2d1d54",
   "metadata": {},
   "outputs": [
    {
     "data": {
      "text/plain": [
       "['i', 'a', 'k', 'g', 'n', 'a', 'i', 'x', 'g', 'n', 'a']"
      ]
     },
     "execution_count": 16,
     "metadata": {},
     "output_type": "execute_result"
    }
   ],
   "source": [
    "list_[::-1]"
   ]
  },
  {
   "cell_type": "code",
   "execution_count": 17,
   "id": "51d6f8f2",
   "metadata": {},
   "outputs": [
    {
     "data": {
      "text/plain": [
       "['a', 'n', 'g', 'x', 'i', 'a', 'n', 'g', 'k', 'a', 'i']"
      ]
     },
     "execution_count": 17,
     "metadata": {},
     "output_type": "execute_result"
    }
   ],
   "source": [
    "list_"
   ]
  },
  {
   "cell_type": "code",
   "execution_count": 18,
   "id": "c102b8d4",
   "metadata": {},
   "outputs": [],
   "source": [
    "list_.sort()"
   ]
  },
  {
   "cell_type": "code",
   "execution_count": 19,
   "id": "210bdaf2",
   "metadata": {},
   "outputs": [
    {
     "data": {
      "text/plain": [
       "['a', 'a', 'a', 'g', 'g', 'i', 'i', 'k', 'n', 'n', 'x']"
      ]
     },
     "execution_count": 19,
     "metadata": {},
     "output_type": "execute_result"
    }
   ],
   "source": [
    "list_"
   ]
  },
  {
   "cell_type": "code",
   "execution_count": 20,
   "id": "acec16aa",
   "metadata": {},
   "outputs": [
    {
     "data": {
      "text/plain": [
       "['x', 'n', 'n', 'k', 'i', 'i', 'g', 'g', 'a', 'a', 'a']"
      ]
     },
     "execution_count": 20,
     "metadata": {},
     "output_type": "execute_result"
    }
   ],
   "source": [
    "list_.reverse()\n",
    "list_"
   ]
  },
  {
   "cell_type": "code",
   "execution_count": 21,
   "id": "b1793c99",
   "metadata": {},
   "outputs": [
    {
     "data": {
      "text/plain": [
       "range(0, 10)"
      ]
     },
     "execution_count": 21,
     "metadata": {},
     "output_type": "execute_result"
    }
   ],
   "source": [
    "range(10)"
   ]
  },
  {
   "cell_type": "code",
   "execution_count": 22,
   "id": "a426a89f",
   "metadata": {},
   "outputs": [
    {
     "data": {
      "text/plain": [
       "range(0, 10)"
      ]
     },
     "execution_count": 22,
     "metadata": {},
     "output_type": "execute_result"
    }
   ],
   "source": [
    "range(0,10)"
   ]
  },
  {
   "cell_type": "code",
   "execution_count": 23,
   "id": "0e11109b",
   "metadata": {},
   "outputs": [
    {
     "data": {
      "text/plain": [
       "range(0, 10)"
      ]
     },
     "execution_count": 23,
     "metadata": {},
     "output_type": "execute_result"
    }
   ],
   "source": [
    "range(0,10,1)"
   ]
  },
  {
   "cell_type": "code",
   "execution_count": 24,
   "id": "4fc6bde4",
   "metadata": {},
   "outputs": [
    {
     "name": "stdout",
     "output_type": "stream",
     "text": [
      "r\n",
      "o\n",
      "u\n",
      "b\n",
      "e\n"
     ]
    }
   ],
   "source": [
    "x='roube'\n",
    "for i in range(len(x)):\n",
    "   print(x[i])"
   ]
  },
  {
   "cell_type": "code",
   "execution_count": 25,
   "id": "85fccbed",
   "metadata": {},
   "outputs": [
    {
     "data": {
      "text/plain": [
       "[(-1, 'spring'), (0, 'summer'), (1, 'fall'), (2, 'winter')]"
      ]
     },
     "execution_count": 25,
     "metadata": {},
     "output_type": "execute_result"
    }
   ],
   "source": [
    "season=['spring','summer','fall','winter']\n",
    "temp=enumerate(season,start=-1)\n",
    "list(temp)"
   ]
  },
  {
   "cell_type": "code",
   "execution_count": 26,
   "id": "bea636e5",
   "metadata": {},
   "outputs": [
    {
     "data": {
      "text/plain": [
       "tuple"
      ]
     },
     "execution_count": 26,
     "metadata": {},
     "output_type": "execute_result"
    }
   ],
   "source": [
    "tup=()\n",
    "type(tup)"
   ]
  },
  {
   "cell_type": "code",
   "execution_count": 27,
   "id": "9709b3c9",
   "metadata": {},
   "outputs": [
    {
     "data": {
      "text/plain": [
       "int"
      ]
     },
     "execution_count": 27,
     "metadata": {},
     "output_type": "execute_result"
    }
   ],
   "source": [
    "tup=(10)\n",
    "type(tup)"
   ]
  },
  {
   "cell_type": "code",
   "execution_count": 28,
   "id": "5b7ac417",
   "metadata": {},
   "outputs": [
    {
     "data": {
      "text/plain": [
       "tuple"
      ]
     },
     "execution_count": 28,
     "metadata": {},
     "output_type": "execute_result"
    }
   ],
   "source": [
    "tup='a','b','c',1,2\n",
    "type(tup)"
   ]
  },
  {
   "cell_type": "code",
   "execution_count": 29,
   "id": "a8a87689",
   "metadata": {},
   "outputs": [
    {
     "name": "stdout",
     "output_type": "stream",
     "text": [
      "(1, 2, 3) (4, 5, 6) (1, 2, 3, 4, 5, 6)\n"
     ]
    }
   ],
   "source": [
    "a=1,2,3\n",
    "b=4,5,6\n",
    "c=a+b\n",
    "print(a,b,c)"
   ]
  },
  {
   "cell_type": "code",
   "execution_count": 30,
   "id": "5e4f5bef",
   "metadata": {},
   "outputs": [
    {
     "data": {
      "text/plain": [
       "('a', 'b', 'c', 'd')"
      ]
     },
     "execution_count": 30,
     "metadata": {},
     "output_type": "execute_result"
    }
   ],
   "source": [
    "tup4='a','b','c','d'\n",
    "type(tup4)\n",
    "tup4"
   ]
  },
  {
   "cell_type": "code",
   "execution_count": 31,
   "id": "88e62767",
   "metadata": {},
   "outputs": [
    {
     "data": {
      "text/plain": [
       "('a', 'b', 'X', 'c', 'd')"
      ]
     },
     "execution_count": 31,
     "metadata": {},
     "output_type": "execute_result"
    }
   ],
   "source": [
    "tup4=tup4[0:2]+(\"X\",)+tup4[2:]\n",
    "id(tup4)\n",
    "tup4"
   ]
  },
  {
   "cell_type": "code",
   "execution_count": 32,
   "id": "bdc4497c",
   "metadata": {},
   "outputs": [
    {
     "data": {
      "text/plain": [
       "'d'"
      ]
     },
     "execution_count": 32,
     "metadata": {},
     "output_type": "execute_result"
    }
   ],
   "source": [
    "tup4[4]"
   ]
  },
  {
   "cell_type": "code",
   "execution_count": 33,
   "id": "2cff3dd5",
   "metadata": {
    "scrolled": true
   },
   "outputs": [
    {
     "data": {
      "text/plain": [
       "('a', 'b', 'X', 'c', 'd')"
      ]
     },
     "execution_count": 33,
     "metadata": {},
     "output_type": "execute_result"
    }
   ],
   "source": [
    "# tup4=tup4[0:3]+(tup4[4],)\n",
    "tup4"
   ]
  },
  {
   "cell_type": "markdown",
   "id": "94e2def8",
   "metadata": {},
   "source": [
    "## 1. 字典"
   ]
  },
  {
   "cell_type": "code",
   "execution_count": 34,
   "id": "612df2f8",
   "metadata": {},
   "outputs": [
    {
     "name": "stdout",
     "output_type": "stream",
     "text": [
      "{'a': 1, '2020': [1, 2, 3], 100: 'hello,world!', 1: 666}\n"
     ]
    }
   ],
   "source": [
    "dict1={'a':1,'2020':[1,2,3],100:('hello,world!'),1:666}\n",
    "print(dict1)"
   ]
  },
  {
   "cell_type": "code",
   "execution_count": 35,
   "id": "68c4acc9",
   "metadata": {},
   "outputs": [
    {
     "data": {
      "text/plain": [
       "dict_items([('a', 1), ('2020', [1, 2, 3]), (100, 'hello,world!'), (1, 666)])"
      ]
     },
     "execution_count": 35,
     "metadata": {},
     "output_type": "execute_result"
    }
   ],
   "source": [
    "dict1.items()"
   ]
  },
  {
   "cell_type": "code",
   "execution_count": 36,
   "id": "f6f62802",
   "metadata": {},
   "outputs": [
    {
     "data": {
      "text/plain": [
       "dict_values([1, [1, 2, 3], 'hello,world!', 666])"
      ]
     },
     "execution_count": 36,
     "metadata": {},
     "output_type": "execute_result"
    }
   ],
   "source": [
    "dict1.values()"
   ]
  },
  {
   "cell_type": "code",
   "execution_count": 37,
   "id": "a2aa2a28",
   "metadata": {},
   "outputs": [
    {
     "data": {
      "text/plain": [
       "dict_keys(['a', '2020', 100, 1])"
      ]
     },
     "execution_count": 37,
     "metadata": {},
     "output_type": "execute_result"
    }
   ],
   "source": [
    "dict1.keys()"
   ]
  },
  {
   "cell_type": "code",
   "execution_count": 38,
   "id": "a3e11198",
   "metadata": {},
   "outputs": [
    {
     "data": {
      "text/plain": [
       "'hello,world!'"
      ]
     },
     "execution_count": 38,
     "metadata": {},
     "output_type": "execute_result"
    }
   ],
   "source": [
    "dict1[100]"
   ]
  },
  {
   "cell_type": "code",
   "execution_count": 39,
   "id": "efbb13a4",
   "metadata": {},
   "outputs": [
    {
     "data": {
      "text/plain": [
       "1"
      ]
     },
     "execution_count": 39,
     "metadata": {},
     "output_type": "execute_result"
    }
   ],
   "source": [
    "dict1['a']"
   ]
  },
  {
   "cell_type": "code",
   "execution_count": 40,
   "id": "eb101c6b",
   "metadata": {},
   "outputs": [
    {
     "data": {
      "text/plain": [
       "1"
      ]
     },
     "execution_count": 40,
     "metadata": {},
     "output_type": "execute_result"
    }
   ],
   "source": [
    "dict1.get('a')"
   ]
  },
  {
   "cell_type": "code",
   "execution_count": 41,
   "id": "29f8eaab",
   "metadata": {},
   "outputs": [
    {
     "data": {
      "text/plain": [
       "'未查找到！'"
      ]
     },
     "execution_count": 41,
     "metadata": {},
     "output_type": "execute_result"
    }
   ],
   "source": [
    "dict1.get(2,'未查找到！')"
   ]
  },
  {
   "cell_type": "code",
   "execution_count": 42,
   "id": "d292a682",
   "metadata": {},
   "outputs": [
    {
     "data": {
      "text/plain": [
       "2"
      ]
     },
     "execution_count": 42,
     "metadata": {},
     "output_type": "execute_result"
    }
   ],
   "source": [
    "dict1['a']=2\n",
    "dict1.get('a')"
   ]
  },
  {
   "cell_type": "code",
   "execution_count": 43,
   "id": "4694d687",
   "metadata": {},
   "outputs": [
    {
     "data": {
      "text/plain": [
       "2"
      ]
     },
     "execution_count": 43,
     "metadata": {},
     "output_type": "execute_result"
    }
   ],
   "source": [
    "dict1['a']"
   ]
  },
  {
   "cell_type": "code",
   "execution_count": 44,
   "id": "f1111c7d",
   "metadata": {},
   "outputs": [
    {
     "data": {
      "text/plain": [
       "{'a': 2, '2020': [1, 2, 3], 100: 'hello,world!', 1: 666}"
      ]
     },
     "execution_count": 44,
     "metadata": {},
     "output_type": "execute_result"
    }
   ],
   "source": [
    "dict1"
   ]
  },
  {
   "cell_type": "code",
   "execution_count": 45,
   "id": "d93903a7",
   "metadata": {},
   "outputs": [
    {
     "data": {
      "text/plain": [
       "{'a': 2, '2020': [1, 2, 3], 100: 'hello,world!', 1: 666, 'tang': 'xiangkai'}"
      ]
     },
     "execution_count": 45,
     "metadata": {},
     "output_type": "execute_result"
    }
   ],
   "source": [
    "dict1['tang']='xiangkai'\n",
    "dict1"
   ]
  },
  {
   "cell_type": "code",
   "execution_count": 19,
   "id": "3d722428",
   "metadata": {},
   "outputs": [],
   "source": [
    "people={'tang':22}\n",
    "dict1.update(people)"
   ]
  },
  {
   "cell_type": "code",
   "execution_count": 46,
   "id": "81cf7fd3",
   "metadata": {},
   "outputs": [
    {
     "data": {
      "text/plain": [
       "2"
      ]
     },
     "execution_count": 46,
     "metadata": {},
     "output_type": "execute_result"
    }
   ],
   "source": [
    "1+1"
   ]
  },
  {
   "cell_type": "code",
   "execution_count": 20,
   "id": "5f01c032",
   "metadata": {},
   "outputs": [
    {
     "data": {
      "text/plain": [
       "{'a': 2, '2020': [1, 2, 3], 100: 'hello,world!', 1: 666, 'tang': 22}"
      ]
     },
     "execution_count": 20,
     "metadata": {},
     "output_type": "execute_result"
    }
   ],
   "source": [
    "dict1"
   ]
  },
  {
   "cell_type": "code",
   "execution_count": 21,
   "id": "6ea4be96",
   "metadata": {},
   "outputs": [
    {
     "data": {
      "text/plain": [
       "{'a': 2,\n",
       " '2020': [1, 2, 3],\n",
       " 100: 'hello,world!',\n",
       " 1: 666,\n",
       " 'tang': 22,\n",
       " 'peng': 22}"
      ]
     },
     "execution_count": 21,
     "metadata": {},
     "output_type": "execute_result"
    }
   ],
   "source": [
    "people1={'peng':22}\n",
    "dict1.update(people1)\n",
    "dict1"
   ]
  },
  {
   "cell_type": "code",
   "execution_count": 22,
   "id": "2768434c",
   "metadata": {},
   "outputs": [
    {
     "data": {
      "text/plain": [
       "{'a': 2, '2020': [1, 2, 3], 100: 'hello,world!', 1: 666, 'peng': 22}"
      ]
     },
     "execution_count": 22,
     "metadata": {},
     "output_type": "execute_result"
    }
   ],
   "source": [
    "dict1.pop('tang')\n",
    "dict1"
   ]
  },
  {
   "cell_type": "code",
   "execution_count": 23,
   "id": "2436d40b",
   "metadata": {},
   "outputs": [
    {
     "data": {
      "text/plain": [
       "('peng', 22)"
      ]
     },
     "execution_count": 23,
     "metadata": {},
     "output_type": "execute_result"
    }
   ],
   "source": [
    "pop_obj=dict1.popitem()\n",
    "pop_obj"
   ]
  },
  {
   "cell_type": "code",
   "execution_count": 24,
   "id": "fb991aea",
   "metadata": {
    "scrolled": true
   },
   "outputs": [
    {
     "data": {
      "text/plain": [
       "{'a': 2, '2020': [1, 2, 3], 100: 'hello,world!', 1: 666}"
      ]
     },
     "execution_count": 24,
     "metadata": {},
     "output_type": "execute_result"
    }
   ],
   "source": [
    "dict1"
   ]
  },
  {
   "cell_type": "markdown",
   "id": "393a0790",
   "metadata": {},
   "source": [
    "## 2.集合(set)"
   ]
  },
  {
   "cell_type": "code",
   "execution_count": 25,
   "id": "4ffc6628",
   "metadata": {},
   "outputs": [
    {
     "data": {
      "text/plain": [
       "set"
      ]
     },
     "execution_count": 25,
     "metadata": {},
     "output_type": "execute_result"
    }
   ],
   "source": [
    "a={2,3,4}\n",
    "type(a)"
   ]
  },
  {
   "cell_type": "code",
   "execution_count": 26,
   "id": "ef50b85d",
   "metadata": {},
   "outputs": [
    {
     "name": "stdout",
     "output_type": "stream",
     "text": [
      "{2, 3, 4}\n"
     ]
    }
   ],
   "source": [
    "print(a)"
   ]
  },
  {
   "cell_type": "code",
   "execution_count": 27,
   "id": "a1107828",
   "metadata": {},
   "outputs": [
    {
     "name": "stdout",
     "output_type": "stream",
     "text": [
      "{3, 4, 5}\n"
     ]
    }
   ],
   "source": [
    "b={3,3,4,4,5,5}\n",
    "print(b)#去重"
   ]
  },
  {
   "cell_type": "code",
   "execution_count": 28,
   "id": "dbad2550",
   "metadata": {},
   "outputs": [],
   "source": [
    "list=[1,2,3,4,5,7]\n",
    "a_set=set(list)"
   ]
  },
  {
   "cell_type": "code",
   "execution_count": 29,
   "id": "f7a83fed",
   "metadata": {},
   "outputs": [
    {
     "data": {
      "text/plain": [
       "{1, 2, 3, 4, 5, 7}"
      ]
     },
     "execution_count": 29,
     "metadata": {},
     "output_type": "execute_result"
    }
   ],
   "source": [
    "a_set"
   ]
  },
  {
   "cell_type": "code",
   "execution_count": 30,
   "id": "556898d3",
   "metadata": {},
   "outputs": [
    {
     "data": {
      "text/plain": [
       "list"
      ]
     },
     "execution_count": 30,
     "metadata": {},
     "output_type": "execute_result"
    }
   ],
   "source": [
    "type(list)"
   ]
  },
  {
   "cell_type": "code",
   "execution_count": 31,
   "id": "7306860a",
   "metadata": {},
   "outputs": [
    {
     "data": {
      "text/plain": [
       "set"
      ]
     },
     "execution_count": 31,
     "metadata": {},
     "output_type": "execute_result"
    }
   ],
   "source": [
    "type(a_set)"
   ]
  },
  {
   "cell_type": "code",
   "execution_count": 32,
   "id": "605c1449",
   "metadata": {},
   "outputs": [
    {
     "name": "stdout",
     "output_type": "stream",
     "text": [
      "{1, 2, 3, 4, 5, 7}\n"
     ]
    }
   ],
   "source": [
    "print(a_set)"
   ]
  },
  {
   "cell_type": "code",
   "execution_count": 33,
   "id": "c52e2834",
   "metadata": {},
   "outputs": [
    {
     "data": {
      "text/plain": [
       "{1, 2, 3, 4, 5, 7, 8, 9}"
      ]
     },
     "execution_count": 33,
     "metadata": {},
     "output_type": "execute_result"
    }
   ],
   "source": [
    "b_set={1,2,3,7,8,9}\n",
    "a_set|b_set#也可使用a_set.union(b_set)"
   ]
  },
  {
   "cell_type": "code",
   "execution_count": 34,
   "id": "b284e425",
   "metadata": {
    "scrolled": true
   },
   "outputs": [
    {
     "data": {
      "text/plain": [
       "{1, 2, 3, 7}"
      ]
     },
     "execution_count": 34,
     "metadata": {},
     "output_type": "execute_result"
    }
   ],
   "source": [
    "a_set&b_set  #也可使用a_set.intersection(b_set)"
   ]
  },
  {
   "cell_type": "code",
   "execution_count": 35,
   "id": "63950b40",
   "metadata": {},
   "outputs": [
    {
     "data": {
      "text/plain": [
       "{1, 2, 3, 7}"
      ]
     },
     "execution_count": 35,
     "metadata": {},
     "output_type": "execute_result"
    }
   ],
   "source": [
    "a_set.intersection(b_set)"
   ]
  },
  {
   "cell_type": "code",
   "execution_count": 36,
   "id": "a6045955",
   "metadata": {},
   "outputs": [
    {
     "data": {
      "text/plain": [
       "{4, 5}"
      ]
     },
     "execution_count": 36,
     "metadata": {},
     "output_type": "execute_result"
    }
   ],
   "source": [
    "a_set - b_set #差集，在a_set中但不在b_set中，-号实现差集功能"
   ]
  },
  {
   "cell_type": "code",
   "execution_count": 37,
   "id": "34e3b040",
   "metadata": {},
   "outputs": [
    {
     "data": {
      "text/plain": [
       "{4, 5, 8, 9}"
      ]
     },
     "execution_count": 37,
     "metadata": {},
     "output_type": "execute_result"
    }
   ],
   "source": [
    "a_set^b_set #对称差集(数据项在a_set中或者在b_set中，但是不同时出现在两个集合中)"
   ]
  },
  {
   "cell_type": "code",
   "execution_count": 38,
   "id": "082f03e9",
   "metadata": {},
   "outputs": [
    {
     "data": {
      "text/plain": [
       "{4, 5, 8, 9}"
      ]
     },
     "execution_count": 38,
     "metadata": {},
     "output_type": "execute_result"
    }
   ],
   "source": [
    "a_set.symmetric_difference(b_set)#或者使用特定方法实现求对称差集"
   ]
  },
  {
   "cell_type": "markdown",
   "id": "d71dcb1f",
   "metadata": {},
   "source": [
    "# 2.3程序控制结构"
   ]
  },
  {
   "cell_type": "markdown",
   "id": "676ef5c3",
   "metadata": {},
   "source": [
    "## 2.3.3选择结构"
   ]
  },
  {
   "cell_type": "markdown",
   "id": "94df8f8e",
   "metadata": {},
   "source": [
    "### 2-1多条件判断"
   ]
  },
  {
   "cell_type": "code",
   "execution_count": 45,
   "id": "c4eb610e",
   "metadata": {},
   "outputs": [
    {
     "name": "stdout",
     "output_type": "stream",
     "text": [
      "B\n",
      "invalid\n",
      "invalid\n",
      "这是一个空字典！\n"
     ]
    }
   ],
   "source": [
    "score=89\n",
    "if score>=90 and score<=100:\n",
    "#if 90<=score<=100\n",
    "    print('A')\n",
    "elif 80<=score<=89:\n",
    "    print('B')\n",
    "num=10\n",
    "if num<0 or num>20:\n",
    "    print(\"valid\")\n",
    "else:\n",
    "    print('invalid')\n",
    "num1 = 7\n",
    "if(num1>=0 and num1<=5) or (num1>=10 and num1<=20):\n",
    "    print('valid')\n",
    "else:\n",
    "    print('invalid')\n",
    "a_dict={}#空字典为False\n",
    "if not a_dict:\n",
    "    print('这是一个空字典！')"
   ]
  },
  {
   "cell_type": "markdown",
   "id": "5c816c70",
   "metadata": {},
   "source": [
    "### 2-2 if-else的三元操作符"
   ]
  },
  {
   "cell_type": "code",
   "execution_count": 46,
   "id": "294901f2",
   "metadata": {},
   "outputs": [],
   "source": [
    "x=10\n",
    "y=20\n",
    "small=x if x<y else y"
   ]
  },
  {
   "cell_type": "code",
   "execution_count": 47,
   "id": "17c94574",
   "metadata": {},
   "outputs": [
    {
     "name": "stdout",
     "output_type": "stream",
     "text": [
      "10\n"
     ]
    }
   ],
   "source": [
    "print(small)"
   ]
  },
  {
   "cell_type": "code",
   "execution_count": 50,
   "id": "afaee136",
   "metadata": {},
   "outputs": [
    {
     "name": "stdout",
     "output_type": "stream",
     "text": [
      "10\n"
     ]
    }
   ],
   "source": [
    "if x<y:\n",
    "    print(x)\n",
    "else:\n",
    "    print(y)"
   ]
  },
  {
   "cell_type": "markdown",
   "id": "e28cba96",
   "metadata": {},
   "source": [
    "## 2.3.4 循环结构"
   ]
  },
  {
   "cell_type": "code",
   "execution_count": null,
   "id": "95097740",
   "metadata": {},
   "outputs": [],
   "source": []
  },
  {
   "cell_type": "markdown",
   "id": "7377faf2",
   "metadata": {},
   "source": [
    "#### 2.3.4.1 for循环"
   ]
  },
  {
   "cell_type": "code",
   "execution_count": 51,
   "id": "c2a9f8ba",
   "metadata": {},
   "outputs": [
    {
     "name": "stdout",
     "output_type": "stream",
     "text": [
      "2\n",
      "4\n",
      "6\n",
      "8\n",
      "10\n",
      "12\n",
      "14\n",
      "16\n",
      "18\n",
      "20\n"
     ]
    }
   ],
   "source": [
    "list1=[1,2,3,4,5,6,7,8,9,10]\n",
    "for mylist in list1:\n",
    "    temp=mylist*2\n",
    "    print(temp)"
   ]
  },
  {
   "cell_type": "code",
   "execution_count": 52,
   "id": "8a8e64b1",
   "metadata": {},
   "outputs": [
    {
     "name": "stdout",
     "output_type": "stream",
     "text": [
      "5050\n"
     ]
    }
   ],
   "source": [
    "sum=0\n",
    "for i in range(101):\n",
    "    sum+=i\n",
    "print(sum)"
   ]
  },
  {
   "cell_type": "code",
   "execution_count": 53,
   "id": "c018cab7",
   "metadata": {},
   "outputs": [
    {
     "name": "stdout",
     "output_type": "stream",
     "text": [
      "25\n"
     ]
    }
   ],
   "source": [
    "sum_1=0\n",
    "for j in range(1,10,2):\n",
    "    sum_1+=j\n",
    "print(sum_1)"
   ]
  },
  {
   "cell_type": "code",
   "execution_count": 55,
   "id": "84019ca4",
   "metadata": {},
   "outputs": [
    {
     "name": "stdout",
     "output_type": "stream",
     "text": [
      "seq[0]=a\n",
      "seq[1]=b\n",
      "seq[2]=c\n",
      "seq[3]=d\n",
      "seq[4]=e\n"
     ]
    }
   ],
   "source": [
    "seq=['a','b','c','d','e']\n",
    "for index,key in enumerate(seq):\n",
    "    print(\"seq[{}]={}\".format(index,key))"
   ]
  },
  {
   "cell_type": "markdown",
   "id": "32666642",
   "metadata": {},
   "source": [
    "#### 2.3.4.2 while循环"
   ]
  },
  {
   "cell_type": "code",
   "execution_count": 8,
   "id": "1e36b3e8",
   "metadata": {},
   "outputs": [
    {
     "name": "stdout",
     "output_type": "stream",
     "text": [
      "2\n",
      "4\n",
      "6\n",
      "8\n",
      "10\n",
      "12\n",
      "14\n",
      "16\n",
      "18\n",
      "20\n",
      "22\n",
      "24\n"
     ]
    }
   ],
   "source": [
    "list_3=[1,2,3,4,5,6,7,8,9,10,11,12]\n",
    "count =0\n",
    "while count<len(list_3):\n",
    "    temp=list_3[count]*2\n",
    "    print(temp)\n",
    "    count+=1"
   ]
  },
  {
   "cell_type": "markdown",
   "id": "f6850e90",
   "metadata": {},
   "source": [
    "#### 2-3利用while循环判断列表元素的奇偶性"
   ]
  },
  {
   "cell_type": "code",
   "execution_count": 12,
   "id": "2a7de4bc",
   "metadata": {},
   "outputs": [
    {
     "name": "stdout",
     "output_type": "stream",
     "text": [
      "even: [0, -8, 10, 78, 34]\n",
      "odd: [65, 13]\n"
     ]
    }
   ],
   "source": [
    "number=[34,78,13,65,10,-8,0]\n",
    "even,odd=[],[]\n",
    "while len(number)>0:\n",
    "    num=number.pop()#pop方法，弹出倒数第一个元素，即默认索引值index为-1\n",
    "    if num%2==0:\n",
    "        even.append(num)#append()方法将符合的元素添加到对应队列中\n",
    "    else:\n",
    "        odd.append(num)\n",
    "print(\"even:\",even)\n",
    "print(\"odd:\",odd)"
   ]
  },
  {
   "cell_type": "code",
   "execution_count": 14,
   "id": "8e423ed0",
   "metadata": {},
   "outputs": [
    {
     "name": "stdout",
     "output_type": "stream",
     "text": [
      "1\n",
      "2\n",
      "3\n",
      "4\n",
      "5\n",
      "6\n",
      "7\n",
      "8\n",
      "9\n",
      "10\n",
      "11\n",
      "12\n",
      "13\n",
      "14\n",
      "15\n",
      "16\n",
      "17\n",
      "18\n",
      "19\n",
      "20\n",
      "21\n",
      "22\n",
      "23\n",
      "24\n",
      "25\n",
      "26\n",
      "27\n",
      "28\n",
      "29\n",
      "30\n",
      "31\n",
      "32\n",
      "33\n",
      "34\n",
      "35\n",
      "36\n",
      "37\n",
      "38\n",
      "39\n",
      "40\n",
      "41\n",
      "42\n",
      "43\n",
      "44\n",
      "45\n",
      "46\n",
      "47\n",
      "48\n",
      "49\n",
      "50\n",
      "END\n"
     ]
    }
   ],
   "source": [
    "n=1\n",
    "while n<=100:\n",
    "    if n>50:\n",
    "        break\n",
    "    print(n)\n",
    "    n+=1\n",
    "print('END')"
   ]
  },
  {
   "cell_type": "code",
   "execution_count": 15,
   "id": "3ae9a06d",
   "metadata": {},
   "outputs": [
    {
     "name": "stdout",
     "output_type": "stream",
     "text": [
      "1\n",
      "3\n",
      "5\n",
      "7\n",
      "9\n"
     ]
    }
   ],
   "source": [
    "n=0\n",
    "while n<10:\n",
    "    n+=1\n",
    "    if n%2==0:#如果n是偶数，执行continue语句\n",
    "        continue#continue语句会直接继续下一轮循环\n",
    "    print(n)"
   ]
  },
  {
   "cell_type": "markdown",
   "id": "ed023452",
   "metadata": {},
   "source": [
    "# 2.4 高效的推导式"
   ]
  },
  {
   "cell_type": "markdown",
   "id": "2da8fd5e",
   "metadata": {},
   "source": [
    "### 2.4.1列表推导式"
   ]
  },
  {
   "cell_type": "code",
   "execution_count": 16,
   "id": "cc9d9ba0",
   "metadata": {},
   "outputs": [
    {
     "data": {
      "text/plain": [
       "[0, 1, 4, 9]"
      ]
     },
     "execution_count": 16,
     "metadata": {},
     "output_type": "execute_result"
    }
   ],
   "source": [
    "aList=[x**2 for x in range(4)]\n",
    "aList"
   ]
  },
  {
   "cell_type": "code",
   "execution_count": 18,
   "id": "52c98c6c",
   "metadata": {},
   "outputs": [
    {
     "data": {
      "text/plain": [
       "[0, 1, 4, 9]"
      ]
     },
     "execution_count": 18,
     "metadata": {},
     "output_type": "execute_result"
    }
   ],
   "source": [
    "bList=[]\n",
    "for  x in range(0,4,1):\n",
    "    bList.append(x**2)\n",
    "bList"
   ]
  },
  {
   "cell_type": "markdown",
   "id": "9c2a8f63",
   "metadata": {},
   "source": [
    "##### 1.过滤原始序列中不符合条件的元素"
   ]
  },
  {
   "cell_type": "code",
   "execution_count": 19,
   "id": "71c8ae2e",
   "metadata": {},
   "outputs": [
    {
     "name": "stdout",
     "output_type": "stream",
     "text": [
      "[1, 81, 0, 25]\n"
     ]
    }
   ],
   "source": [
    "a_list=[1,'4',9,'a',0,5,'hello']\n",
    "squared_ints=[e**2 for e in a_list if type(e)==int]\n",
    "print(squared_ints)"
   ]
  },
  {
   "cell_type": "markdown",
   "id": "df378580",
   "metadata": {},
   "source": [
    "##### 2.使用列表推导式实现嵌套列表的平铺"
   ]
  },
  {
   "cell_type": "code",
   "execution_count": 20,
   "id": "0626e9a6",
   "metadata": {},
   "outputs": [
    {
     "name": "stdout",
     "output_type": "stream",
     "text": [
      "[1, 2, 3, 4, 5, 6, 7, 8, 9]\n"
     ]
    }
   ],
   "source": [
    "vec=[[1,2,3],[4,5,6],[7,8,9]]\n",
    "flat_vec=[num for elem in vec for num in elem]\n",
    "print(flat_vec)"
   ]
  },
  {
   "cell_type": "markdown",
   "id": "88534423",
   "metadata": {},
   "source": [
    "##### 3.多条件组合构造特定列表"
   ]
  },
  {
   "cell_type": "code",
   "execution_count": 21,
   "id": "ecc3e3bf",
   "metadata": {},
   "outputs": [
    {
     "name": "stdout",
     "output_type": "stream",
     "text": [
      "[{1, 3}, {1, 4}, {2, 3}, {1, 2}, {2, 4}, {1, 3}, {3, 4}]\n"
     ]
    }
   ],
   "source": [
    "new_list=[{x,y} for x in [1,2,3]for y in[3,1,4] if x!=y]\n",
    "print(new_list)"
   ]
  },
  {
   "cell_type": "code",
   "execution_count": 22,
   "id": "7a72adc6",
   "metadata": {},
   "outputs": [
    {
     "name": "stdout",
     "output_type": "stream",
     "text": [
      "[(1, 3), (1, 4), (2, 3), (2, 1), (2, 4), (3, 1), (3, 4)]\n"
     ]
    }
   ],
   "source": [
    "newlist=[]\n",
    "for x in [1,2,3]:\n",
    "    for y in [3,1,4]:\n",
    "        if x!=y:\n",
    "            newlist.append((x,y))\n",
    "print(newlist)"
   ]
  },
  {
   "cell_type": "markdown",
   "id": "0d025c7c",
   "metadata": {},
   "source": [
    "### 2.4.2字典推导式"
   ]
  },
  {
   "cell_type": "code",
   "execution_count": 24,
   "id": "c3bf25f7",
   "metadata": {},
   "outputs": [
    {
     "name": "stdout",
     "output_type": "stream",
     "text": [
      "{10: 'a', 30: 'b', 50: 'c'}\n"
     ]
    }
   ],
   "source": [
    "mcase={'a':10,'b':30,'c':50}#交换原有字典的键和值\n",
    "kv_exchange={v:k for k,v in mcase.items()}\n",
    "print(kv_exchange)"
   ]
  },
  {
   "cell_type": "markdown",
   "id": "53c0162b",
   "metadata": {},
   "source": [
    "### 2.4.3集合推导式"
   ]
  },
  {
   "cell_type": "code",
   "execution_count": 26,
   "id": "5fbff3ce",
   "metadata": {},
   "outputs": [
    {
     "name": "stdout",
     "output_type": "stream",
     "text": [
      "{1, 4, 9}\n"
     ]
    }
   ],
   "source": [
    "squared={x**2 for x in [1,1,2,-2,3]}#对每个元素实施平方操作\n",
    "print(squared)#集合可以达到去重操作"
   ]
  },
  {
   "cell_type": "markdown",
   "id": "a239f28d",
   "metadata": {},
   "source": [
    "# 2.5 第二章小结(附思考与提高)"
   ]
  },
  {
   "cell_type": "markdown",
   "id": "ee2781e3",
   "metadata": {},
   "source": [
    "## 1.将两两不相同元素封装成元组，并将元组打包成一个列表"
   ]
  },
  {
   "cell_type": "code",
   "execution_count": 27,
   "id": "1de660a1",
   "metadata": {},
   "outputs": [
    {
     "name": "stdout",
     "output_type": "stream",
     "text": [
      "[(1, 2), (1, 7), (2, 7), (3, 2), (3, 7)]\n"
     ]
    }
   ],
   "source": [
    "list_a=[1,2,3]\n",
    "list_b=[2,7]#或者用：list_a,list_b=[1,2,3],[2,7]\n",
    "list_c=[(x,y) for x in list_a for y in list_b if x!=y]\n",
    "print(list_c)"
   ]
  },
  {
   "cell_type": "markdown",
   "id": "3ef3768d",
   "metadata": {},
   "source": [
    "## 2.实现元组和列表的转换"
   ]
  },
  {
   "cell_type": "code",
   "execution_count": 28,
   "id": "2370549e",
   "metadata": {},
   "outputs": [
    {
     "data": {
      "text/plain": [
       "tuple"
      ]
     },
     "execution_count": 28,
     "metadata": {},
     "output_type": "execute_result"
    }
   ],
   "source": [
    "a_list=[1,2,3,4]\n",
    "a_tuple=('a','b','c','d')\n",
    "tuple_a_list=tuple(a_list)\n",
    "type(tuple_a_list)"
   ]
  },
  {
   "cell_type": "code",
   "execution_count": 29,
   "id": "054e4904",
   "metadata": {},
   "outputs": [
    {
     "ename": "TypeError",
     "evalue": "'tuple' object does not support item assignment",
     "output_type": "error",
     "traceback": [
      "\u001b[1;31m---------------------------------------------------------------------------\u001b[0m",
      "\u001b[1;31mTypeError\u001b[0m                                 Traceback (most recent call last)",
      "\u001b[1;32m~\\AppData\\Local\\Temp/ipykernel_10764/115097953.py\u001b[0m in \u001b[0;36m<module>\u001b[1;34m\u001b[0m\n\u001b[1;32m----> 1\u001b[1;33m \u001b[0mtuple_a_list\u001b[0m\u001b[1;33m[\u001b[0m\u001b[1;36m0\u001b[0m\u001b[1;33m]\u001b[0m\u001b[1;33m=\u001b[0m\u001b[1;36m100\u001b[0m\u001b[1;33m\u001b[0m\u001b[1;33m\u001b[0m\u001b[0m\n\u001b[0m",
      "\u001b[1;31mTypeError\u001b[0m: 'tuple' object does not support item assignment"
     ]
    }
   ],
   "source": [
    "tuple_a_list[0]=100 #元组内的元素不可更改"
   ]
  },
  {
   "cell_type": "code",
   "execution_count": 30,
   "id": "05603598",
   "metadata": {},
   "outputs": [
    {
     "data": {
      "text/plain": [
       "list"
      ]
     },
     "execution_count": 30,
     "metadata": {},
     "output_type": "execute_result"
    }
   ],
   "source": [
    "list_a_tuple=list(a_tuple)\n",
    "type(list_a_tuple)"
   ]
  },
  {
   "cell_type": "code",
   "execution_count": 31,
   "id": "bc5357fd",
   "metadata": {},
   "outputs": [],
   "source": [
    "list_a_tuple[0]=100"
   ]
  },
  {
   "cell_type": "code",
   "execution_count": 32,
   "id": "6477ba0c",
   "metadata": {},
   "outputs": [
    {
     "data": {
      "text/plain": [
       "[100, 'b', 'c', 'd']"
      ]
     },
     "execution_count": 32,
     "metadata": {},
     "output_type": "execute_result"
    }
   ],
   "source": [
    "list_a_tuple"
   ]
  },
  {
   "cell_type": "markdown",
   "id": "19d31f93",
   "metadata": {},
   "source": [
    "## 3.删除一个列表中重复的元素(集合去重法&字典去重法)"
   ]
  },
  {
   "cell_type": "code",
   "execution_count": 36,
   "id": "146f6a3e",
   "metadata": {},
   "outputs": [
    {
     "data": {
      "text/plain": [
       "[1, 3, 4, 5]"
      ]
     },
     "execution_count": 36,
     "metadata": {},
     "output_type": "execute_result"
    }
   ],
   "source": [
    "a_list=[1,3,1,4,5,4,5,3,3]\n",
    "a_list=list(set(a_list))\n",
    "a_list"
   ]
  },
  {
   "cell_type": "code",
   "execution_count": 37,
   "id": "845609ce",
   "metadata": {},
   "outputs": [
    {
     "data": {
      "text/plain": [
       "[1, 3, 4, 5]"
      ]
     },
     "execution_count": 37,
     "metadata": {},
     "output_type": "execute_result"
    }
   ],
   "source": [
    "a_list=[1,3,1,4,5,4,5,3,3]\n",
    "a_dict={}\n",
    "for key in a_list:\n",
    "    a_dict[key]=1#字典的键必须不同，值可以随意\n",
    "a_dict=list(a_dict)\n",
    "a_dict"
   ]
  },
  {
   "cell_type": "markdown",
   "id": "77d287a7",
   "metadata": {},
   "source": [
    "## 4.将姓名长度小于2字符的删除，将写法相同大小写不同的名字合并，并按照习惯变成首字母大写。（假设有如下列表)"
   ]
  },
  {
   "cell_type": "code",
   "execution_count": 54,
   "id": "fe0d9554",
   "metadata": {},
   "outputs": [
    {
     "data": {
      "text/plain": [
       "{'Alice', 'Bob', 'John'}"
      ]
     },
     "execution_count": 54,
     "metadata": {},
     "output_type": "execute_result"
    }
   ],
   "source": [
    "names=['Bob','JOHN','alice','bob','ALICE','J','Bob']\n",
    "{name.title() for name in names if len(name) > 2}#使用集合达到去重效果"
   ]
  },
  {
   "cell_type": "markdown",
   "id": "36e2ee63",
   "metadata": {},
   "source": [
    "## 5. 假设有以字母为键的字典，现在希望“键”不区分大小写，而将值合并。"
   ]
  },
  {
   "cell_type": "code",
   "execution_count": 51,
   "id": "cd4070ef",
   "metadata": {},
   "outputs": [],
   "source": [
    "mcase={'a':10,'b':34,'A':7,'z':3}\n",
    "mcase_frequence={key.lower():mcase.get(key.lower(),0)+mcase.get(key.upper(),0) for key in mcase.keys()}#dic.keys()方法:返回dic的键"
   ]
  },
  {
   "cell_type": "code",
   "execution_count": 52,
   "id": "e04a4bbc",
   "metadata": {},
   "outputs": [
    {
     "name": "stdout",
     "output_type": "stream",
     "text": [
      "{'a': 17, 'b': 34, 'z': 3}\n"
     ]
    }
   ],
   "source": [
    "print(mcase_frequence)"
   ]
  },
  {
   "cell_type": "markdown",
   "id": "494b5e8c",
   "metadata": {},
   "source": [
    "## 6.对第4题中重名人员进行计数后输出其对应字典。"
   ]
  },
  {
   "cell_type": "code",
   "execution_count": 62,
   "id": "1c6fae7b",
   "metadata": {},
   "outputs": [
    {
     "name": "stdout",
     "output_type": "stream",
     "text": [
      "{'Alice': 2, 'Bob': 3, 'John': 1}\n"
     ]
    }
   ],
   "source": [
    "names=['Bob','JOHN','alice','bob','ALICE','J','Bob']\n",
    "name1=[name.title() for name in names if len(name) >2]\n",
    "name2=set(name1)\n",
    "name3={i:name1.count(i) for i in name2}\n",
    "name4={i:name3[i] for i in sorted(name3.keys())}\n",
    "print(name4)"
   ]
  },
  {
   "cell_type": "markdown",
   "id": "b8eaaa95",
   "metadata": {},
   "source": [
    "# 三.自建Python模块与第三方模块"
   ]
  },
  {
   "cell_type": "markdown",
   "id": "0123469a",
   "metadata": {},
   "source": [
    "## 3.1导入Python标准库"
   ]
  },
  {
   "cell_type": "code",
   "execution_count": 1,
   "id": "ae151f42",
   "metadata": {},
   "outputs": [
    {
     "data": {
      "text/plain": [
       "0.3894183423086505"
      ]
     },
     "execution_count": 1,
     "metadata": {},
     "output_type": "execute_result"
    }
   ],
   "source": [
    "import math\n",
    "math.sin(0.4)"
   ]
  },
  {
   "cell_type": "code",
   "execution_count": 3,
   "id": "f78b9a95",
   "metadata": {},
   "outputs": [
    {
     "name": "stdout",
     "output_type": "stream",
     "text": [
      "x= 0.8674642706562218\n"
     ]
    }
   ],
   "source": [
    "import random as rd#导入随机数库，取别名as\n",
    "x=rd.random()#通过别名访问random(),获取[0，1]区间的一个随机数\n",
    "print(\"x=\",x)"
   ]
  },
  {
   "cell_type": "code",
   "execution_count": 5,
   "id": "e1e39597",
   "metadata": {},
   "outputs": [
    {
     "name": "stdout",
     "output_type": "stream",
     "text": [
      "[1 2 3 4 5]\n"
     ]
    }
   ],
   "source": [
    "import numpy as np\n",
    "a=np.array((1,2,3,4,5))#通过array()生成一个一维矩阵\n",
    "print(a)"
   ]
  },
  {
   "cell_type": "code",
   "execution_count": 6,
   "id": "f5de5cae",
   "metadata": {},
   "outputs": [
    {
     "data": {
      "text/plain": [
       "-0.9899924966004454"
      ]
     },
     "execution_count": 6,
     "metadata": {},
     "output_type": "execute_result"
    }
   ],
   "source": [
    "from math import cos #仅从math模块中导入余弦函数cos()\n",
    "cos(3)        #未使用math.来明确cos()的来源"
   ]
  },
  {
   "cell_type": "code",
   "execution_count": 7,
   "id": "e8a9047c",
   "metadata": {},
   "outputs": [
    {
     "data": {
      "text/plain": [
       "0.3894183423086505"
      ]
     },
     "execution_count": 7,
     "metadata": {},
     "output_type": "execute_result"
    }
   ],
   "source": [
    "from math import sin as f #仅从math模块中导入正弦函数sin(),并取别名为f\n",
    "f(0.4)"
   ]
  },
  {
   "cell_type": "code",
   "execution_count": 13,
   "id": "8cecba24",
   "metadata": {},
   "outputs": [
    {
     "name": "stdout",
     "output_type": "stream",
     "text": [
      "-0.9589242746631385 / 0.5403023058681398 / 1.4142135623730951\n"
     ]
    }
   ],
   "source": [
    "from math import *   #导入math模块中的所有函数\n",
    "x=sin(5)\n",
    "y=cos(1)\n",
    "z=sqrt(2)\n",
    "print(x,y,z,sep=' / ')"
   ]
  },
  {
   "cell_type": "markdown",
   "id": "86c3acf6",
   "metadata": {},
   "source": [
    "## 3.2编写自己的模块"
   ]
  },
  {
   "cell_type": "code",
   "execution_count": 1,
   "id": "2e353314",
   "metadata": {},
   "outputs": [
    {
     "data": {
      "text/plain": [
       "['C:\\\\Users\\\\MasterT\\\\Desktop\\\\ptt',\n",
       " 'D:\\\\Anacond\\\\python39.zip',\n",
       " 'D:\\\\Anacond\\\\DLLs',\n",
       " 'D:\\\\Anacond\\\\lib',\n",
       " 'D:\\\\Anacond',\n",
       " '',\n",
       " 'D:\\\\Anacond\\\\lib\\\\site-packages',\n",
       " 'D:\\\\Anacond\\\\lib\\\\site-packages\\\\locket-0.2.1-py3.9.egg',\n",
       " 'D:\\\\Anacond\\\\lib\\\\site-packages\\\\win32',\n",
       " 'D:\\\\Anacond\\\\lib\\\\site-packages\\\\win32\\\\lib',\n",
       " 'D:\\\\Anacond\\\\lib\\\\site-packages\\\\Pythonwin',\n",
       " 'D:\\\\Anacond\\\\lib\\\\site-packages\\\\IPython\\\\extensions',\n",
       " 'C:\\\\Users\\\\MasterT\\\\.ipython']"
      ]
     },
     "execution_count": 1,
     "metadata": {},
     "output_type": "execute_result"
    }
   ],
   "source": [
    "import sys\n",
    "sys.path"
   ]
  },
  {
   "cell_type": "markdown",
   "id": "df721573",
   "metadata": {},
   "source": [
    "## 3.3(模块搜索路径)--3.4(创建模块包)在pycharm或桌面ss/chap3/package"
   ]
  },
  {
   "cell_type": "markdown",
   "id": "475eefe2",
   "metadata": {},
   "source": [
    "## 3.5 常用的内件模块"
   ]
  },
  {
   "cell_type": "markdown",
   "id": "870aea2e",
   "metadata": {},
   "source": [
    "### 3.5.1 collections 模块"
   ]
  },
  {
   "cell_type": "markdown",
   "id": "b70c6bf1",
   "metadata": {},
   "source": [
    "#### 3.5.1.1 namedtuple"
   ]
  },
  {
   "cell_type": "code",
   "execution_count": 37,
   "id": "dcddc90c",
   "metadata": {},
   "outputs": [
    {
     "data": {
      "text/plain": [
       "3"
      ]
     },
     "execution_count": 37,
     "metadata": {},
     "output_type": "execute_result"
    }
   ],
   "source": [
    "from collections import namedtuple\n",
    "Point=namedtuple('Point',['x','y'])\n",
    "p=Point(3,4)\n",
    "p.x"
   ]
  },
  {
   "cell_type": "code",
   "execution_count": 38,
   "id": "aa8f0f3d",
   "metadata": {},
   "outputs": [
    {
     "data": {
      "text/plain": [
       "4"
      ]
     },
     "execution_count": 38,
     "metadata": {},
     "output_type": "execute_result"
    }
   ],
   "source": [
    "p.y"
   ]
  },
  {
   "cell_type": "code",
   "execution_count": 39,
   "id": "37038520",
   "metadata": {},
   "outputs": [
    {
     "data": {
      "text/plain": [
       "True"
      ]
     },
     "execution_count": 39,
     "metadata": {},
     "output_type": "execute_result"
    }
   ],
   "source": [
    "isinstance(p,Point)#对象p是否为类Point的实例"
   ]
  },
  {
   "cell_type": "code",
   "execution_count": 41,
   "id": "cf3c7363",
   "metadata": {},
   "outputs": [
    {
     "data": {
      "text/plain": [
       "True"
      ]
     },
     "execution_count": 41,
     "metadata": {},
     "output_type": "execute_result"
    }
   ],
   "source": [
    "isinstance(p,tuple)#对象p是否为元组实例"
   ]
  },
  {
   "cell_type": "code",
   "execution_count": 42,
   "id": "5bdd3339",
   "metadata": {},
   "outputs": [
    {
     "data": {
      "text/plain": [
       "3"
      ]
     },
     "execution_count": 42,
     "metadata": {},
     "output_type": "execute_result"
    }
   ],
   "source": [
    "p[0]"
   ]
  },
  {
   "cell_type": "code",
   "execution_count": 43,
   "id": "fddda8e8",
   "metadata": {},
   "outputs": [
    {
     "data": {
      "text/plain": [
       "4"
      ]
     },
     "execution_count": 43,
     "metadata": {},
     "output_type": "execute_result"
    }
   ],
   "source": [
    "p[1]"
   ]
  },
  {
   "cell_type": "code",
   "execution_count": 44,
   "id": "2a841b91",
   "metadata": {},
   "outputs": [
    {
     "data": {
      "text/plain": [
       "(3, 4)"
      ]
     },
     "execution_count": 44,
     "metadata": {},
     "output_type": "execute_result"
    }
   ],
   "source": [
    "a,b=p#解包，用普通变量a,b接收namedtuple中的元素x和y\n",
    "a,b"
   ]
  },
  {
   "cell_type": "markdown",
   "id": "97bec1fd",
   "metadata": {},
   "source": [
    "##### 3.1.5.2 deque(双向队列)"
   ]
  },
  {
   "cell_type": "code",
   "execution_count": 1,
   "id": "7f626986",
   "metadata": {},
   "outputs": [
    {
     "name": "stdout",
     "output_type": "stream",
     "text": [
      "deque(['a', 'b', 'c', 'd', 1])\n"
     ]
    }
   ],
   "source": [
    "from collections import deque\n",
    "dp=deque(['a','b','c','d'])\n",
    "dp.append(1)\n",
    "print(dp)"
   ]
  },
  {
   "cell_type": "code",
   "execution_count": 2,
   "id": "b74ad9ef",
   "metadata": {},
   "outputs": [
    {
     "name": "stdout",
     "output_type": "stream",
     "text": [
      "deque([2, 'a', 'b', 'c', 'd', 1])\n"
     ]
    }
   ],
   "source": [
    "dp.appendleft(2)\n",
    "print(dp)"
   ]
  },
  {
   "cell_type": "code",
   "execution_count": 3,
   "id": "98e63256",
   "metadata": {},
   "outputs": [
    {
     "name": "stdout",
     "output_type": "stream",
     "text": [
      "deque([2, 'a', 'z', 'b', 'c', 'd', 1])\n"
     ]
    }
   ],
   "source": [
    "dp.insert(2,'z')#在指定下标插入指定元素\n",
    "print(dp)"
   ]
  },
  {
   "cell_type": "code",
   "execution_count": 4,
   "id": "0e3e527c",
   "metadata": {},
   "outputs": [
    {
     "name": "stdout",
     "output_type": "stream",
     "text": [
      "deque([2, 'a', 'z', 'b', 'c', 'd'])\n"
     ]
    }
   ],
   "source": [
    "dp.pop()#弹出最右边一个元素,并删除\n",
    "print(dp)"
   ]
  },
  {
   "cell_type": "code",
   "execution_count": 5,
   "id": "da3c82fb",
   "metadata": {},
   "outputs": [
    {
     "data": {
      "text/plain": [
       "2"
      ]
     },
     "execution_count": 5,
     "metadata": {},
     "output_type": "execute_result"
    }
   ],
   "source": [
    "dp.popleft()#弹出最左边一个元素，并删除"
   ]
  },
  {
   "cell_type": "code",
   "execution_count": 6,
   "id": "a807cd98",
   "metadata": {},
   "outputs": [
    {
     "name": "stdout",
     "output_type": "stream",
     "text": [
      "deque(['a', 'z', 'b', 'c', 'd'])\n"
     ]
    }
   ],
   "source": [
    "print(dp)"
   ]
  },
  {
   "cell_type": "code",
   "execution_count": 7,
   "id": "3a052d7a",
   "metadata": {},
   "outputs": [],
   "source": [
    "dp.remove('z')#删除指定元素"
   ]
  },
  {
   "cell_type": "code",
   "execution_count": 8,
   "id": "ebabcb58",
   "metadata": {},
   "outputs": [
    {
     "name": "stdout",
     "output_type": "stream",
     "text": [
      "deque(['a', 'b', 'c', 'd'])\n"
     ]
    }
   ],
   "source": [
    "print(dp)"
   ]
  },
  {
   "cell_type": "code",
   "execution_count": 10,
   "id": "abf68857",
   "metadata": {},
   "outputs": [
    {
     "name": "stdout",
     "output_type": "stream",
     "text": [
      "deque(['d', 'c', 'b', 'a'])\n"
     ]
    }
   ],
   "source": [
    "dp.reverse()#逆序队列\n",
    "print(dp)"
   ]
  },
  {
   "cell_type": "markdown",
   "id": "107f1206",
   "metadata": {},
   "source": [
    "##### 3.5.1.3 OrderedDict(有序字典)"
   ]
  },
  {
   "cell_type": "code",
   "execution_count": 11,
   "id": "cbfef06c",
   "metadata": {},
   "outputs": [
    {
     "name": "stdout",
     "output_type": "stream",
     "text": [
      "OrderedDict([('a', 1), ('b', 2), ('c', 3)])\n"
     ]
    }
   ],
   "source": [
    "from collections import OrderedDict\n",
    "od=OrderedDict()#创建有序字典\n",
    "od['a']=1#添加元素\n",
    "od['b']=2\n",
    "od['c']=3\n",
    "print(od)"
   ]
  },
  {
   "cell_type": "code",
   "execution_count": 12,
   "id": "887e2e45",
   "metadata": {},
   "outputs": [
    {
     "data": {
      "text/plain": [
       "['a', 'b', 'c']"
      ]
     },
     "execution_count": 12,
     "metadata": {},
     "output_type": "execute_result"
    }
   ],
   "source": [
    "list(od.keys())#按插入键的顺序返回"
   ]
  },
  {
   "cell_type": "code",
   "execution_count": 13,
   "id": "8eef8a9a",
   "metadata": {},
   "outputs": [
    {
     "name": "stdout",
     "output_type": "stream",
     "text": [
      "OrderedDict([('a', 1), ('b', 2), ('c', 3), ('apple', 4), ('banana', 5), ('cat', 6)])\n"
     ]
    }
   ],
   "source": [
    "keys=['apple','banana','cat']\n",
    "value=[4,5,6]\n",
    "od.update(zip(keys,value))\n",
    "print(od)"
   ]
  },
  {
   "cell_type": "code",
   "execution_count": 15,
   "id": "b0c23f9a",
   "metadata": {},
   "outputs": [
    {
     "name": "stdout",
     "output_type": "stream",
     "text": [
      "OrderedDict([('b', 2), ('c', 3), ('apple', 4), ('banana', 5), ('cat', 6)])\n"
     ]
    }
   ],
   "source": [
    "od.pop('a')#弹出键为'a'的值，并删除\n",
    "print(od)"
   ]
  },
  {
   "cell_type": "code",
   "execution_count": 16,
   "id": "2043fe88",
   "metadata": {},
   "outputs": [
    {
     "name": "stdout",
     "output_type": "stream",
     "text": [
      "OrderedDict([('c', 3), ('apple', 4), ('banana', 5), ('cat', 6), ('b', 2)])\n"
     ]
    }
   ],
   "source": [
    "od.move_to_end('b')#将键为'b'的元素移至队尾\n",
    "print(od)"
   ]
  },
  {
   "cell_type": "markdown",
   "id": "561980bf",
   "metadata": {},
   "source": [
    "##### 3.1.5.4 defaultdict(默认值字典类型)"
   ]
  },
  {
   "cell_type": "code",
   "execution_count": 18,
   "id": "964e7103",
   "metadata": {},
   "outputs": [
    {
     "data": {
      "text/plain": [
       "1"
      ]
     },
     "execution_count": 18,
     "metadata": {},
     "output_type": "execute_result"
    }
   ],
   "source": [
    "from collections import defaultdict\n",
    "dd=defaultdict(lambda:'N/A')\n",
    "dd['key1']=1\n",
    "dd['key1']"
   ]
  },
  {
   "cell_type": "code",
   "execution_count": 19,
   "id": "1c3ef880",
   "metadata": {},
   "outputs": [
    {
     "data": {
      "text/plain": [
       "'N/A'"
      ]
     },
     "execution_count": 19,
     "metadata": {},
     "output_type": "execute_result"
    }
   ],
   "source": [
    "dd['key2']"
   ]
  },
  {
   "cell_type": "markdown",
   "id": "403bbef8",
   "metadata": {},
   "source": [
    "##### 3.5.1.5 Counter(’计算器‘，计数器)"
   ]
  },
  {
   "cell_type": "code",
   "execution_count": 20,
   "id": "e71418c7",
   "metadata": {},
   "outputs": [
    {
     "name": "stdout",
     "output_type": "stream",
     "text": [
      "{'red': 2, 'blue': 2, 'green': 1, 'yellow': 1}\n"
     ]
    }
   ],
   "source": [
    "#3-2【利用字典统计词频】\n",
    "colors=['red','blue','red','green','blue','yellow']\n",
    "result={}\n",
    "for color in colors:\n",
    "    if result.get(color)==None:\n",
    "        result[color]=1\n",
    "    else:\n",
    "        result[color]+=1\n",
    "print(result)"
   ]
  },
  {
   "cell_type": "code",
   "execution_count": 39,
   "id": "fb4516dc",
   "metadata": {},
   "outputs": [
    {
     "name": "stdout",
     "output_type": "stream",
     "text": [
      "{'red': 2, 'blue': 3, 'green': 1, 'yellow': 1}\n"
     ]
    }
   ],
   "source": [
    "#3-3【利用Counter()统计词频】\n",
    "from collections import Counter\n",
    "colors=['red','blue','red','green','blue','yellow','blue']\n",
    "result=Counter(colors)\n",
    "print(dict(result))"
   ]
  },
  {
   "cell_type": "code",
   "execution_count": 41,
   "id": "12cadf0f",
   "metadata": {},
   "outputs": [
    {
     "name": "stdout",
     "output_type": "stream",
     "text": [
      "[('blue', 3)]\n"
     ]
    }
   ],
   "source": [
    "print(result.most_common(1))#出现频率最高的n(1)个对象"
   ]
  },
  {
   "cell_type": "markdown",
   "id": "981bef17",
   "metadata": {},
   "source": [
    "### 3.5.2 datetime 模块"
   ]
  },
  {
   "cell_type": "markdown",
   "id": "cb17444b",
   "metadata": {},
   "source": [
    "#### 3.5.2.1 获取当前时间"
   ]
  },
  {
   "cell_type": "code",
   "execution_count": 27,
   "id": "1fa874ca",
   "metadata": {},
   "outputs": [
    {
     "name": "stdout",
     "output_type": "stream",
     "text": [
      "2022-01-25 00:42:37.384894\n"
     ]
    }
   ],
   "source": [
    "from datetime import datetime #前一个是模块，后一个是类。导入日期类\n",
    "now=datetime.now()\n",
    "print(now)"
   ]
  },
  {
   "cell_type": "code",
   "execution_count": 28,
   "id": "0b3091c0",
   "metadata": {},
   "outputs": [
    {
     "data": {
      "text/plain": [
       "datetime.datetime"
      ]
     },
     "execution_count": 28,
     "metadata": {},
     "output_type": "execute_result"
    }
   ],
   "source": [
    "type(now)"
   ]
  },
  {
   "cell_type": "code",
   "execution_count": 30,
   "id": "c314af4f",
   "metadata": {},
   "outputs": [
    {
     "name": "stdout",
     "output_type": "stream",
     "text": [
      "2022-01-25 00:44:00\n"
     ]
    }
   ],
   "source": [
    "date=datetime(2022,1,25,0,44)\n",
    "print(date)"
   ]
  },
  {
   "cell_type": "code",
   "execution_count": 31,
   "id": "b737b619",
   "metadata": {},
   "outputs": [
    {
     "data": {
      "text/plain": [
       "2022"
      ]
     },
     "execution_count": 31,
     "metadata": {},
     "output_type": "execute_result"
    }
   ],
   "source": [
    "date.year"
   ]
  },
  {
   "cell_type": "code",
   "execution_count": 32,
   "id": "011dd7ab",
   "metadata": {},
   "outputs": [
    {
     "data": {
      "text/plain": [
       "25"
      ]
     },
     "execution_count": 32,
     "metadata": {},
     "output_type": "execute_result"
    }
   ],
   "source": [
    "now.day"
   ]
  },
  {
   "cell_type": "markdown",
   "id": "43356602",
   "metadata": {},
   "source": [
    "#### 3.5.2.2 datetime转换为timestamp"
   ]
  },
  {
   "cell_type": "code",
   "execution_count": 37,
   "id": "0acae7ac",
   "metadata": {},
   "outputs": [
    {
     "data": {
      "text/plain": [
       "1643042793.457945"
      ]
     },
     "execution_count": 37,
     "metadata": {},
     "output_type": "execute_result"
    }
   ],
   "source": [
    "from datetime import datetime\n",
    "dt=datetime.now()\n",
    "dt.timestamp()"
   ]
  },
  {
   "cell_type": "code",
   "execution_count": 39,
   "id": "7200b918",
   "metadata": {},
   "outputs": [
    {
     "name": "stdout",
     "output_type": "stream",
     "text": [
      "2020-10-30 11:00:30\n"
     ]
    }
   ],
   "source": [
    "from datetime import datetime\n",
    "cday=datetime.strptime('2020-10-30 11:00:30','%Y-%m-%d %H:%M:%S')#字符串转化为datetime\n",
    "print(cday)"
   ]
  },
  {
   "cell_type": "markdown",
   "id": "c6248caa",
   "metadata": {},
   "source": [
    "#### 3.5.2.3 datetime转化为字符串"
   ]
  },
  {
   "cell_type": "code",
   "execution_count": 42,
   "id": "cd30853a",
   "metadata": {},
   "outputs": [
    {
     "data": {
      "text/plain": [
       "'50'"
      ]
     },
     "execution_count": 42,
     "metadata": {},
     "output_type": "execute_result"
    }
   ],
   "source": [
    "from datetime import datetime\n",
    "now=datetime.now()#获取当前日期时间\n",
    "now.strftime('%M')"
   ]
  },
  {
   "cell_type": "code",
   "execution_count": 43,
   "id": "6e0c9a1f",
   "metadata": {},
   "outputs": [
    {
     "data": {
      "text/plain": [
       "'2022'"
      ]
     },
     "execution_count": 43,
     "metadata": {},
     "output_type": "execute_result"
    }
   ],
   "source": [
    "now.strftime(\"%Y\")"
   ]
  },
  {
   "cell_type": "markdown",
   "id": "75a5e67c",
   "metadata": {},
   "source": [
    "#### 3.5.2.4datetime加减"
   ]
  },
  {
   "cell_type": "code",
   "execution_count": 47,
   "id": "5c77b261",
   "metadata": {},
   "outputs": [
    {
     "name": "stdout",
     "output_type": "stream",
     "text": [
      "2022-01-25 00:58\n"
     ]
    }
   ],
   "source": [
    "from datetime import datetime,timedelta#导入timedelta类\n",
    "now=datetime.now()\n",
    "print(now.strftime(\"%Y-%m-%d %H:%M\"))"
   ]
  },
  {
   "cell_type": "code",
   "execution_count": 48,
   "id": "ca183a74",
   "metadata": {},
   "outputs": [],
   "source": [
    "date1=now+timedelta(hours=2)"
   ]
  },
  {
   "cell_type": "code",
   "execution_count": 49,
   "id": "fe8fee60",
   "metadata": {},
   "outputs": [
    {
     "name": "stdout",
     "output_type": "stream",
     "text": [
      "2022-01-25 02:58\n"
     ]
    }
   ],
   "source": [
    "print(date1.strftime(\"%Y-%m-%d %H:%M\"))"
   ]
  },
  {
   "cell_type": "code",
   "execution_count": 50,
   "id": "d9cde2a6",
   "metadata": {},
   "outputs": [
    {
     "name": "stdout",
     "output_type": "stream",
     "text": [
      "2022-01-23 22:57\n"
     ]
    }
   ],
   "source": [
    "date2=now-timedelta(days=1,hours=2,minutes=1)\n",
    "print(date2.strftime(\"%Y-%m-%d %H:%M\"))"
   ]
  },
  {
   "cell_type": "code",
   "execution_count": 51,
   "id": "200bba43",
   "metadata": {},
   "outputs": [],
   "source": [
    "#计算两个日期相隔的天数\n",
    "from datetime import datetime,timedelta\n",
    "list_1=[\"2020-10-07\",'2013-9-1']\n",
    "day1=datetime.strptime(list_1[0],'%Y-%m-%d')#将字符串转化为datetime类\n",
    "day2=datetime.strptime(list_1[1],\"%Y-%m-%d\")\n",
    "deltadays=day1-day2"
   ]
  },
  {
   "cell_type": "code",
   "execution_count": 56,
   "id": "20713e39",
   "metadata": {},
   "outputs": [
    {
     "name": "stdout",
     "output_type": "stream",
     "text": [
      "2593\n"
     ]
    }
   ],
   "source": [
    "print(deltadays.days)"
   ]
  },
  {
   "cell_type": "markdown",
   "id": "90683e44",
   "metadata": {},
   "source": [
    "## 3.5.3 json模块(见pycharm)"
   ]
  },
  {
   "cell_type": "markdown",
   "id": "7e3cbb7a",
   "metadata": {},
   "source": [
    "## 3.5.4 random模块"
   ]
  },
  {
   "cell_type": "markdown",
   "id": "254111bc",
   "metadata": {},
   "source": [
    "### 3.5.4.1 random()"
   ]
  },
  {
   "cell_type": "code",
   "execution_count": 1,
   "id": "1f724d50",
   "metadata": {},
   "outputs": [
    {
     "data": {
      "text/plain": [
       "0.6407038439119179"
      ]
     },
     "execution_count": 1,
     "metadata": {},
     "output_type": "execute_result"
    }
   ],
   "source": [
    "import random\n",
    "random.random()"
   ]
  },
  {
   "cell_type": "code",
   "execution_count": 4,
   "id": "642a4627",
   "metadata": {},
   "outputs": [],
   "source": [
    "random.uniform?"
   ]
  },
  {
   "cell_type": "code",
   "execution_count": 7,
   "id": "b96802ca",
   "metadata": {},
   "outputs": [
    {
     "data": {
      "text/plain": [
       "11.603096376896504"
      ]
     },
     "execution_count": 7,
     "metadata": {},
     "output_type": "execute_result"
    }
   ],
   "source": [
    "random.uniform(10,20)"
   ]
  },
  {
   "cell_type": "code",
   "execution_count": 8,
   "id": "f6be5a5d",
   "metadata": {},
   "outputs": [
    {
     "data": {
      "text/plain": [
       "10.523635988509444"
      ]
     },
     "execution_count": 8,
     "metadata": {},
     "output_type": "execute_result"
    }
   ],
   "source": [
    "random.seed(123)  #设置随机数种子为123\n",
    "random.uniform(10,20)"
   ]
  },
  {
   "cell_type": "code",
   "execution_count": 11,
   "id": "35aa64c5",
   "metadata": {},
   "outputs": [
    {
     "data": {
      "text/plain": [
       "16"
      ]
     },
     "execution_count": 11,
     "metadata": {},
     "output_type": "execute_result"
    }
   ],
   "source": [
    "random.randint(10,20)"
   ]
  },
  {
   "cell_type": "code",
   "execution_count": 12,
   "id": "c0e1b705",
   "metadata": {},
   "outputs": [
    {
     "data": {
      "text/plain": [
       "6"
      ]
     },
     "execution_count": 12,
     "metadata": {},
     "output_type": "execute_result"
    }
   ],
   "source": [
    "import random\n",
    "random.randrange(0,20,3)"
   ]
  },
  {
   "cell_type": "code",
   "execution_count": 15,
   "id": "a4d95e74",
   "metadata": {},
   "outputs": [
    {
     "name": "stdout",
     "output_type": "stream",
     "text": [
      "0 3 6 9 12 15 18 "
     ]
    }
   ],
   "source": [
    "for x in range(0,20,3):\n",
    "    print(x,end=' ')"
   ]
  },
  {
   "cell_type": "code",
   "execution_count": 27,
   "id": "8b7b7daa",
   "metadata": {},
   "outputs": [
    {
     "data": {
      "text/plain": [
       "'hxy'"
      ]
     },
     "execution_count": 27,
     "metadata": {},
     "output_type": "execute_result"
    }
   ],
   "source": [
    "girlfriends=['hxy','yzy','tyz','ptt']#抽取随机元素\n",
    "random.choice(girlfriends)"
   ]
  },
  {
   "cell_type": "code",
   "execution_count": 28,
   "id": "e042ce43",
   "metadata": {},
   "outputs": [
    {
     "data": {
      "text/plain": [
       "['ptt', 'hxy']"
      ]
     },
     "execution_count": 28,
     "metadata": {},
     "output_type": "execute_result"
    }
   ],
   "source": [
    "random.choices(girlfriends,k=2)#重复执行k次choice()方法，，可能有重复元素,是随机抽取"
   ]
  },
  {
   "cell_type": "code",
   "execution_count": 31,
   "id": "17d32538",
   "metadata": {},
   "outputs": [
    {
     "data": {
      "text/plain": [
       "['ptt', 'yzy', 'tyz']"
      ]
     },
     "execution_count": 31,
     "metadata": {},
     "output_type": "execute_result"
    }
   ],
   "source": [
    "random.sample(girlfriends,3)#从指定序列随机获得指定长度的片段，原有序列不会改变，sample()"
   ]
  },
  {
   "cell_type": "code",
   "execution_count": 34,
   "id": "f54294d8",
   "metadata": {},
   "outputs": [
    {
     "name": "stdout",
     "output_type": "stream",
     "text": [
      "['张8', '张4', '张6', '张7', '张5', '张3', '张9']\n"
     ]
    }
   ],
   "source": [
    "from random import shuffle   #随机打乱原排序\n",
    "lst=['张3','张4','张5','张6','张7','张8','张9']\n",
    "shuffle(lst)\n",
    "print(lst)"
   ]
  },
  {
   "cell_type": "code",
   "execution_count": 43,
   "id": "0e4de1c6",
   "metadata": {},
   "outputs": [
    {
     "name": "stdout",
     "output_type": "stream",
     "text": [
      "0\n"
     ]
    }
   ],
   "source": [
    "dict_5={1:2,3:4}\n",
    "key=4\n",
    "if key in dict_5.keys():\n",
    "    print(1)\n",
    "else:print(0)"
   ]
  }
 ],
 "metadata": {
  "kernelspec": {
   "display_name": "Python 3 (ipykernel)",
   "language": "python",
   "name": "python3"
  },
  "language_info": {
   "codemirror_mode": {
    "name": "ipython",
    "version": 3
   },
   "file_extension": ".py",
   "mimetype": "text/x-python",
   "name": "python",
   "nbconvert_exporter": "python",
   "pygments_lexer": "ipython3",
   "version": "3.9.7"
  }
 },
 "nbformat": 4,
 "nbformat_minor": 5
}
